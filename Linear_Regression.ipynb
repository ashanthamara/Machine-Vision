{
  "nbformat": 4,
  "nbformat_minor": 0,
  "metadata": {
    "colab": {
      "name": "Linear Regression.ipynb",
      "provenance": [],
      "mount_file_id": "1VNLoYkJHkZ429BJSbSNuPLVjk9AICim8",
      "authorship_tag": "ABX9TyMsscqhFAvup3cLM0TsNiMj",
      "include_colab_link": true
    },
    "kernelspec": {
      "name": "python3",
      "display_name": "Python 3"
    },
    "language_info": {
      "name": "python"
    }
  },
  "cells": [
    {
      "cell_type": "markdown",
      "metadata": {
        "id": "view-in-github",
        "colab_type": "text"
      },
      "source": [
        "<a href=\"https://colab.research.google.com/github/ashanthamara/Machine-Vision/blob/main/Linear_Regression.ipynb\" target=\"_parent\"><img src=\"https://colab.research.google.com/assets/colab-badge.svg\" alt=\"Open In Colab\"/></a>"
      ]
    },
    {
      "cell_type": "code",
      "execution_count": null,
      "metadata": {
        "id": "bIxeiqBz4FFB"
      },
      "outputs": [],
      "source": [
        "import numpy as np\n",
        "from typing import Tuple\n",
        "from sklearn.linear_model import LinearRegression\n",
        "import matplotlib.pyplot as plt"
      ]
    },
    {
      "cell_type": "markdown",
      "source": [
        "# Question (a) - Load data "
      ],
      "metadata": {
        "id": "retHb-8MX0F3"
      }
    },
    {
      "cell_type": "code",
      "source": [
        "import numpy as np\n",
        "from typing import Tuple\n",
        "\n",
        "def load_dataset(\n",
        ") -> Tuple[np.ndarray, np.ndarray, np.ndarray, np.ndarray, np.ndarray]:\n",
        "  \"\"\"Load the dataset as a set of numpy arrays.\n",
        "  Args:\n",
        "    src_dir: Directory where dataset files are stored.\n",
        "  Returns:\n",
        "    (x_train, y_train, x_val, y_val, x_test) tuple where each array is \n",
        "    one dimensional.\n",
        "  \"\"\"\n",
        "  # Implement here.\n",
        "  x_train = np.loadtxt('x_train.txt')\n",
        "  y_train = np.loadtxt('y_train.txt')\n",
        "  x_val   = np.loadtxt('x_val.txt')\n",
        "  y_val   = np.loadtxt('y_val.txt')\n",
        "  x_test  = np.loadtxt('x_test.txt')\n",
        "\n",
        "  return (x_train, y_train, x_val, y_val, x_test)"
      ],
      "metadata": {
        "id": "pql-ENEkqF3k"
      },
      "execution_count": null,
      "outputs": []
    },
    {
      "cell_type": "code",
      "source": [
        "files = load_dataset()"
      ],
      "metadata": {
        "id": "x1EXBqzZhScw"
      },
      "execution_count": null,
      "outputs": []
    },
    {
      "cell_type": "markdown",
      "source": [
        "# Question (b) - (i) - Get Features"
      ],
      "metadata": {
        "id": "FRgEUoAieHbG"
      }
    },
    {
      "cell_type": "code",
      "source": [
        "def get_features(x: np.ndarray, n: int) -> np.ndarray:\n",
        "  \"\"\"Creates n-th degree polynomial features for the given vector x.\n",
        "  \n",
        "  Example usage:\n",
        "  get_features(np.array([1.0, 2.0, 3.0]), 3) outputs\n",
        "  np.array([[ 1., 1., 1.],\n",
        "            [ 2., 4., 8.],\n",
        "            [ 3., 9., 27.]])\n",
        "  \n",
        "  Args:\n",
        "    x: A numpy array of shape (num_examples, ) or (num_examples, 1).\n",
        "    n: The degree of the polynomial features.\n",
        "  Returns:\n",
        "    A matrix of shape (num_examples, n) where the j-th column is equal to\n",
        "    the vector x raised to the power j (elementwise).\n",
        "  \"\"\"\n",
        "  # Implement here.\n",
        "  feature_arr = []\n",
        "\n",
        "  for order in range(1, n+1):\n",
        "    feature_arr.append(np.power(x, order))\n",
        "\n",
        "  feature_np_arr = np.transpose(np.array(feature_arr))\n",
        "\n",
        "  return feature_np_arr"
      ],
      "metadata": {
        "id": "4J8u1nHxZYsH"
      },
      "execution_count": null,
      "outputs": []
    },
    {
      "cell_type": "markdown",
      "source": [
        "# Question (b) - (ii) - Fit to the Model"
      ],
      "metadata": {
        "id": "3o8LpRCKh4zH"
      }
    },
    {
      "cell_type": "code",
      "source": [
        "def mse(\n",
        "    y_predict: np.ndarray, y: np.ndarray\n",
        ") -> np.ndarray:\n",
        "    \"\"\"Give the Minimum Square Error between 2 numpy arrays.\n",
        "    \n",
        "    Args:\n",
        "      y_predict : Predicted y data set\n",
        "      y         : y data set\n",
        "    \n",
        "    Returns:\n",
        "      Minimum Square Error value.\n",
        "    \"\"\"  \n",
        "    diff    = np.subtract(y_predict, y)\n",
        "    square  = np.square(diff)\n",
        "    mse     = square.mean()\n",
        "\n",
        "    return mse"
      ],
      "metadata": {
        "id": "p_3bSrsLlJfN"
      },
      "execution_count": null,
      "outputs": []
    },
    {
      "cell_type": "code",
      "source": [
        "from sklearn.linear_model import LinearRegression\n",
        "\n",
        "def fit_and_evaluate(\n",
        "        x_train: np.ndarray, y_train: np.ndarray,\n",
        "        x_val: np.ndarray, y_val: np.ndarray,\n",
        "        n: int\n",
        ") -> Tuple[float, float]:\n",
        "  \"\"\"Fits an n-th degree polynomial and outputs train and validation MSE.\n",
        "  \n",
        "  Fits a linear regression model y = sum_{i=1}^n w_i x^i to the given train\n",
        "  set and outputs the mean-squared-error (MSE) on train and validation sets.\n",
        "  \n",
        "  Args:\n",
        "    x_train: Input features for the train set. Has shape (num_train, )\n",
        "    y_train: Targets (labels) for the train set. Has shape (num_train, )\n",
        "    x_val: Input features for the validation set. Has shape (num_val, )\n",
        "    y_val: Targets (labels) for the validation set. Has shape (num_val, )\n",
        "    n: The degree of the polynomial fit. See the above equation.\n",
        "  \n",
        "  Returns:\n",
        "    (train_mse, val_mse), tuple of MSE on train and validation sets.\n",
        "  \"\"\"\n",
        "  # Fit the model on the train set.\n",
        "  features_train = get_features(x_train, n)          \t        \n",
        "  lReg = LinearRegression().fit(features_train, y_train)      \n",
        "\n",
        "  # Generate model predictions for the train set and calculate the MSE.\n",
        "  y_predict_train = lReg.predict(features_train)\n",
        "  train_mse = mse(y_predict_train, y_train)\n",
        "  \n",
        "  # Similarly, calculate the MSE on the val set.\n",
        "  features_val = get_features(x_val, n)\n",
        "  y_predict_val = lReg.predict(features_val)\n",
        "  \n",
        "  val_mse = mse(y_predict_val, y_val)\n",
        "\n",
        "  return (train_mse, val_mse)"
      ],
      "metadata": {
        "id": "-lWD4MrhhdjO"
      },
      "execution_count": null,
      "outputs": []
    },
    {
      "cell_type": "markdown",
      "source": [
        "# Question (c) - Execution"
      ],
      "metadata": {
        "id": "J2Nkgq43bxcT"
      }
    },
    {
      "cell_type": "code",
      "source": [
        "train_mse_list = []\n",
        "valid_mse_list = []\n",
        "\n",
        "poly_order_list = range(1,11)\n",
        "\n",
        "(x_train, y_train, x_val, y_val, x_test) = load_dataset()\n",
        "\n",
        "for n in poly_order_list:\n",
        "  train_mse, val_mse = fit_and_evaluate(x_train, y_train, x_val, y_val, n)\n",
        "\n",
        "  train_mse_list.append(train_mse)\n",
        "  valid_mse_list.append(val_mse)\n",
        "\n",
        "print (train_mse_list)\n",
        "print (valid_mse_list)"
      ],
      "metadata": {
        "colab": {
          "base_uri": "https://localhost:8080/"
        },
        "id": "F_33u0eIb0Tz",
        "outputId": "40c5fffb-9dc9-4427-d082-cd0f571a9d75"
      },
      "execution_count": null,
      "outputs": [
        {
          "output_type": "stream",
          "name": "stdout",
          "text": [
            "[0.009864490094460845, 0.008163153627118627, 0.005981666955568008, 0.0031633621615761386, 0.0027591731286592484, 0.002456559289068863, 0.0024500640867778827, 0.002430787870448915, 0.0023097525840395706, 0.0023060588213539065]\n",
            "[0.009405234745251631, 0.008328810131910442, 0.005754008631688685, 0.0045703795718866, 0.004725591166898599, 0.005238102521960982, 0.005222963895944109, 0.005062812502113994, 0.005121710255229986, 0.005174772167507077]\n"
          ]
        }
      ]
    },
    {
      "cell_type": "markdown",
      "source": [
        "# Plotting Data"
      ],
      "metadata": {
        "id": "mYi1qoZ7iFfy"
      }
    },
    {
      "cell_type": "code",
      "source": [
        "plt.scatter(poly_order_list, train_mse_list)\n",
        "plt.plot(poly_order_list, train_mse_list)\n",
        "\n",
        "plt.scatter(poly_order_list, valid_mse_list)\n",
        "plt.plot(poly_order_list, valid_mse_list)\n",
        "\n",
        "plt.xlabel(\"Order of the polynomial (n)\")\n",
        "plt.ylabel(\"Minimum Square Error\")\n",
        "plt.legend([\"MSE - Train Set\", \"MSE - Validation Set\"])\n",
        "plt.show()"
      ],
      "metadata": {
        "colab": {
          "base_uri": "https://localhost:8080/",
          "height": 279
        },
        "id": "BnM8dck0iH0I",
        "outputId": "5a197831-6452-4db7-e108-dda4c7c156d9"
      },
      "execution_count": null,
      "outputs": [
        {
          "output_type": "display_data",
          "data": {
            "image/png": "[encoded data removed]",
            "text/plain": [
              "<Figure size 432x288 with 1 Axes>"
            ]
          },
          "metadata": {
            "needs_background": "light"
          }
        }
      ]
    },
    {
      "cell_type": "code",
      "source": [
        "print(min(valid_mse_list))\n",
        "print(valid_mse_list)"
      ],
      "metadata": {
        "colab": {
          "base_uri": "https://localhost:8080/"
        },
        "id": "vPALcrOTjH2E",
        "outputId": "0fb30776-b830-432e-ae66-e3d83f0b21e2"
      },
      "execution_count": null,
      "outputs": [
        {
          "output_type": "stream",
          "name": "stdout",
          "text": [
            "0.0045703795718866\n",
            "[0.009405234745251631, 0.008328810131910442, 0.005754008631688685, 0.0045703795718866, 0.004725591166898599, 0.005238102521960982, 0.005222963895944109, 0.005062812502113994, 0.005121710255229986, 0.005174772167507077]\n"
          ]
        }
      ]
    },
    {
      "cell_type": "markdown",
      "source": [
        "# Test Set Evaluation"
      ],
      "metadata": {
        "id": "6ZizMPZ_jYkM"
      }
    },
    {
      "cell_type": "code",
      "source": [
        "min_order = 4\n",
        "\n",
        "# x_set = np.concatenate((x_train, x_val), axis=0)\n",
        "# y_set = np.concatenate((y_train, y_val), axis=0)\n",
        "\n",
        "# features = get_features(x_set, min_order)          \t        \n",
        "# lReg = LinearRegression().fit(features, y_set) \n",
        "\n",
        "# features_test = get_features(x_test, min_order)\n",
        "# y_predict_test = lReg.predict(features_test)\n",
        "\n",
        "# print(y_predict_test)\n",
        "\n",
        "# print(\"#################################\")\n",
        "\n",
        "features = get_features(x_train, min_order)          \t        \n",
        "lReg = LinearRegression().fit(features, y_train)\n",
        "\n",
        "features_test = get_features(x_test, min_order)\n",
        "y_predict_test = lReg.predict(features_test)\n",
        "\n",
        "print(y_predict_test)\n",
        "\n",
        "np.savetxt('170418E_y_predict_test.txt', y_predict_test)"
      ],
      "metadata": {
        "colab": {
          "base_uri": "https://localhost:8080/"
        },
        "id": "qQII6lxwjbDl",
        "outputId": "b2a0f3a0-e695-49da-e37c-d690670a2865"
      },
      "execution_count": null,
      "outputs": [
        {
          "output_type": "stream",
          "name": "stdout",
          "text": [
            "[-0.30878316 -0.30341778 -0.07618281 -0.0843125  -0.10491691 -0.08973922\n",
            " -0.11277228 -0.08348989 -0.08202108 -0.02106554 -0.14471697 -0.09272346\n",
            " -0.29550722  0.07350912 -0.07189564 -0.29119058 -0.07191468 -0.09032372\n",
            " -0.09013063 -0.09104392 -0.09784716  0.02246369 -0.27668916 -0.09052277\n",
            " -0.28242122 -0.08619781 -0.16541421 -0.30631398 -0.09794286  0.03249597\n",
            " -0.24527463 -0.29235661 -0.24477184 -0.14936501 -0.29526399 -0.31031345\n",
            " -0.08006125 -0.07536584 -0.23513394 -0.23883371 -0.30654502 -0.08830308\n",
            " -0.01314884 -0.08278867  0.02963719 -0.13621903 -0.07613073 -0.09347038\n",
            " -0.08750151 -0.07416437 -0.18264786 -0.24231125 -0.07436302 -0.08141123\n",
            " -0.12016509 -0.20322411 -0.28753099 -0.25037422 -0.1379987  -0.25555791\n",
            " -0.07525156 -0.12307734 -0.11889327 -0.08982563 -0.25245923 -0.07217565\n",
            " -0.0914836  -0.11382828 -0.07189879 -0.28390421 -0.07344621 -0.22602493\n",
            " -0.01369172 -0.07375273 -0.2122835  -0.07485047 -0.30696024 -0.0885661\n",
            " -0.08996211 -0.07189514 -0.17579746 -0.07574765  0.01722293 -0.30876464\n",
            " -0.08796526 -0.29891255  0.03322514 -0.12227309 -0.09266737 -0.15150295\n",
            " -0.08889169 -0.07235815 -0.29948454 -0.11868208 -0.17728411 -0.30857997\n",
            " -0.22396795 -0.29186887 -0.15574855 -0.26755472]\n"
          ]
        }
      ]
    }
  ]
}